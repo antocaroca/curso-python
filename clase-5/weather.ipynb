{
 "cells": [
  {
   "cell_type": "code",
   "execution_count": 51,
   "metadata": {},
   "outputs": [
    {
     "name": "stdout",
     "output_type": "stream",
     "text": [
      "Ingrese latitud: -33.4726900\n",
      "Ingrese longitud: -70.6472400\n",
      "nombre del lugar: Región Metropolitana de Santiago\n",
      "condición del tiempo: nubes rotas\n",
      "Temperatura: 9 °C\n",
      "Índice UV: 4.33\n",
      "Es de día? No\n"
     ]
    }
   ],
   "source": [
    "import requests\n",
    "\n",
    "appid = \"cc301b2e9da95c8375c5a9a98b1be9c5\"\n",
    "url = \"http://api.openweathermap.org/data/2.5/\"\n",
    "\n",
    "lat = float(input('Ingrese latitud: ')) # -33.4726900\n",
    "lon = float(input('Ingrese longitud: ')) # -70.6472400\n",
    "lang = \"es\"\n",
    "\n",
    "\n",
    "uv_res = requests.get(f\"{url}uvi?lat={lat}&lon={lon}&appid={appid}\")\n",
    "res = requests.get(f\"{url}weather?lat={lat}&lon={lon}&units=metric&lang={lang}&appid={appid}\")\n",
    "#print(res.status_code)\n",
    "res_json = res.json() \n",
    "uv_res_json = uv_res.json()\n",
    "\n",
    "#print(uv_res_json)\n",
    "#print(res_json)\n",
    "print(\"Nombre del lugar:\", res_json[\"name\"])\n",
    "print(\"Condición del tiempo:\", res_json[\"weather\"][0][\"description\"])\n",
    "print(\"Temperatura:\", res_json[\"main\"][\"temp\"], \"°C\")\n",
    "print(\"Índice UV:\", uv_res_json[\"value\"])\n",
    "\n",
    "sunrise = res_json[\"sys\"][\"sunrise\"]\n",
    "sunset = res_json[\"sys\"][\"sunset\"]\n",
    "dt_now = res_json[\"dt\"]\n",
    "\n",
    "if dt_now > sunset or dt_now < sunrise:\n",
    "    print(\"Es de día? No\")\n",
    "elif dt_now > sunrise or dt_now < sunset:\n",
    "    print(\"Es de día? Si\")\n",
    "\n"
   ]
  },
  {
   "cell_type": "code",
   "execution_count": null,
   "metadata": {},
   "outputs": [],
   "source": []
  },
  {
   "cell_type": "code",
   "execution_count": null,
   "metadata": {},
   "outputs": [],
   "source": []
  }
 ],
 "metadata": {
  "kernelspec": {
   "display_name": "Python 3",
   "language": "python",
   "name": "python3"
  },
  "language_info": {
   "codemirror_mode": {
    "name": "ipython",
    "version": 3
   },
   "file_extension": ".py",
   "mimetype": "text/x-python",
   "name": "python",
   "nbconvert_exporter": "python",
   "pygments_lexer": "ipython3",
   "version": "3.6.8"
  }
 },
 "nbformat": 4,
 "nbformat_minor": 2
}
