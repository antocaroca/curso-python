{
 "cells": [
  {
   "cell_type": "markdown",
   "metadata": {},
   "source": [
    "<h1><center>Estudio de los Nacimientos en el Condado de King del año 2001</center></h1>"
   ]
  },
  {
   "cell_type": "markdown",
   "metadata": {},
   "source": []
  },
  {
   "cell_type": "code",
   "execution_count": 4,
   "metadata": {},
   "outputs": [
    {
     "name": "stdout",
     "output_type": "stream",
     "text": [
      "Registros con género femenino:  1209\n",
      "Registros con género masculino:  1291\n"
     ]
    }
   ],
   "source": [
    "archivo = open(\"BirthsKingCounty2001.txt\", \"r\")\n",
    "\n",
    "F = 0\n",
    "M = 0\n",
    "\n",
    "for linea in archivo:\n",
    "    datos = linea.strip().split()\n",
    "    if datos[0] == 'F':\n",
    "        F += 1\n",
    "    elif datos[0] == 'M':\n",
    "        M += 1\n",
    "\n",
    "print('Registros con género femenino: ', F)\n",
    "\n",
    "print('Registros con género masculino: ', M)\n",
    "\n",
    "archivo.close()"
   ]
  },
  {
   "cell_type": "code",
   "execution_count": 17,
   "metadata": {},
   "outputs": [
    {
     "name": "stdout",
     "output_type": "stream",
     "text": [
      "Promdeio de edad de las madres:  29.304\n",
      "La desviación estándar de las edades de las madres es:  6.001632430991979\n"
     ]
    }
   ],
   "source": [
    "import statistics\n",
    "archivo = open(\"BirthsKingCounty2001.txt\", \"r\")\n",
    "\n",
    "edades = []\n",
    "\n",
    "for linea in archivo:\n",
    "    edad = int(linea.strip().split()[2])\n",
    "    edades.append(edad)\n",
    "    \n",
    "print('Promdeio de edad de las madres: ', statistics.mean(edades))\n",
    "print('La desviación estándar de las edades de las madres es: ', statistics.stdev(edades))\n",
    "\n",
    "archivo.close()"
   ]
  },
  {
   "cell_type": "code",
   "execution_count": null,
   "metadata": {},
   "outputs": [],
   "source": []
  }
 ],
 "metadata": {
  "kernelspec": {
   "display_name": "Python 3",
   "language": "python",
   "name": "python3"
  },
  "language_info": {
   "codemirror_mode": {
    "name": "ipython",
    "version": 3
   },
   "file_extension": ".py",
   "mimetype": "text/x-python",
   "name": "python",
   "nbconvert_exporter": "python",
   "pygments_lexer": "ipython3",
   "version": "3.6.8"
  }
 },
 "nbformat": 4,
 "nbformat_minor": 4
}
